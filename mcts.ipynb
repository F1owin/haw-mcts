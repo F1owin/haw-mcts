{
 "cells": [
  {
   "cell_type": "markdown",
   "metadata": {},
   "source": [
    "# Monte Carlo Tree Search Exploration\n"
   ]
  },
  {
   "cell_type": "markdown",
   "metadata": {},
   "source": [
    "## Prequesites:\n",
    "* 2 Person zero-sum-game with perfect Information\n",
    "* Upper Confidence applied to trees (UCT)\n",
    "\n",
    "\n",
    "The Monte Carlo Tree Search consists of 4 steps:\n",
    "* Selection (Tree Traversal)\n",
    "* Expansion\n",
    "* Rollout / Simulation\n",
    "* Backpropagation"
   ]
  },
  {
   "cell_type": "markdown",
   "metadata": {},
   "source": [
    "##\n",
    "\n",
    "* We are traversing through the tree by choosing the child node which maximises the UCB1 formula until we hit a leaf node:\n",
    "* $ \\bar{x} \\pm \\sqrt{\\frac{2 \\ln n}{n_i}} $\n",
    "* If the node has not been visited yet, we ROLLOUT/SIMULATE\n",
    "* If it has been visited, we add a new state for each available action to the tree"
   ]
  },
  {
   "cell_type": "code",
   "execution_count": null,
   "metadata": {},
   "outputs": [],
   "source": []
  },
  {
   "cell_type": "code",
   "execution_count": null,
   "metadata": {},
   "outputs": [],
   "source": []
  }
 ],
 "metadata": {
  "kernelspec": {
   "display_name": "Python 3",
   "language": "python",
   "name": "python3"
  },
  "language_info": {
   "codemirror_mode": {
    "name": "ipython",
    "version": 3
   },
   "file_extension": ".py",
   "mimetype": "text/x-python",
   "name": "python",
   "nbconvert_exporter": "python",
   "pygments_lexer": "ipython3",
   "version": "3.7.1"
  }
 },
 "nbformat": 4,
 "nbformat_minor": 2
}
